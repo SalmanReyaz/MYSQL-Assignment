{
 "cells": [
  {
   "cell_type": "code",
   "execution_count": null,
   "id": "6b83118d",
   "metadata": {},
   "outputs": [],
   "source": [
    "Q1. What is a database? Differentiate between SQL and NoSQL databases.\n"
   ]
  },
  {
   "cell_type": "markdown",
   "id": "dc9c8bb3",
   "metadata": {},
   "source": [
    "`Ans:-- A database is a structured collection of data that is organized, stored, and managed for easy access, retrieval, and manipulation. Databases provide a systematic way to store and manage large amounts of information efficiently, making it possible to perform various operations on the data, such as querying, updating, and deleting.`\n",
    "\n",
    "\n",
    "\n",
    "\n",
    "# SQL\n",
    "\n",
    "- RELATIONAL DATABASE MANAGEMENT SYSTEM (RDBMS)\n",
    "\n",
    "- Data Model:- SQL Databases: SQL databases are based on a relational data model. Data is organized into tables with predefined schemas, and relationships between tables are defined using keys (usually primary and foreign keys).\n",
    "\n",
    "- Schemas:- SQL databases have a fixed schema, meaning the structure of the data and the relationships between tables are defined in advance. Any changes to the schema require careful management and migration.\n",
    "\n",
    "\n",
    "-  SQL databases use the SQL language for querying and manipulating data.\n",
    "\n",
    "-  SQL databases are best suited for complex queries\n",
    "\n",
    "\n",
    "-  MySQL, PostgreSQL, Oracle, MS-SQL Server, etc.\n",
    "\n",
    "\n",
    "\n",
    "# NOSQL\n",
    "\n",
    "\n",
    "\n",
    "- Non-relational or distributed database system.\n",
    "\n",
    "- NoSQL databases encompass various data models, including document, key-value, column-family, and graph. \n",
    "\n",
    "-  NoSQL databases are often schema-less or schema-flexible. This means that data can be added without adhering to a predefined structure\n",
    "\n",
    "- NoSQL databases often have their own query languages or APIs tailored to their data models.\n",
    "\n",
    "- These databases are not so good for complex queries.\n",
    "\n",
    "-  MongoDB, GraphQL, HBase, Neo4j, Cassandra, etc"
   ]
  },
  {
   "cell_type": "code",
   "execution_count": null,
   "id": "82bc1737",
   "metadata": {},
   "outputs": [],
   "source": []
  },
  {
   "cell_type": "markdown",
   "id": "a90dfde1",
   "metadata": {},
   "source": [
    "`Q2. What is DDL? Explain why CREATE, DROP, ALTER, and TRUNCATE are used with an example.`"
   ]
  },
  {
   "cell_type": "markdown",
   "id": "20b66bc5",
   "metadata": {},
   "source": [
    " `Data Definition Language (DDL) is a set of SQL (Structured Query Language) commands used to create,alter,drop, modify, and delete database objects such as tables, indexes, views, and constraints. DDL statements are used to define the schema or structure of a database, including its data types, relationships between tables, and rules for data integrity and security.`\n",
    " \n",
    " \n",
    " __CREATE :-\n",
    "This command is used to create a new table in SQL. The user has to give information like table name, column names, and their datatypes.__\n",
    "\n",
    "\n",
    "\n",
    "__DROP :\n",
    "This command is used to remove an existing table along with its structure from the Database.__\n",
    "\n",
    "\n",
    "\n",
    "__ALTER :\n",
    "This command is used to add, delete or change columns in the existing table. The user needs to know the existing table name and can do add, delete or modify tasks easily__.\n",
    "\n",
    "\n",
    "\n",
    "__TRUNCATE :\n",
    "This command is used to remove all rows from the table, but the structure of the table still exists.__"
   ]
  },
  {
   "cell_type": "code",
   "execution_count": 3,
   "id": "92ae1c19",
   "metadata": {},
   "outputs": [
    {
     "data": {
      "text/plain": [
       "'CREATE TABLE table_name\\n(\\ncolumn_1 datatype,\\ncolumn_2 datatype,\\ncolumn_3 datatype,\\n....\\n);  '"
      ]
     },
     "execution_count": 3,
     "metadata": {},
     "output_type": "execute_result"
    }
   ],
   "source": [
    "\"\"\"CREATE TABLE table_name\n",
    "(\n",
    "column_1 datatype,\n",
    "column_2 datatype,\n",
    "column_3 datatype,\n",
    "....\n",
    ");  \"\"\""
   ]
  },
  {
   "cell_type": "code",
   "execution_count": 4,
   "id": "3f619f97",
   "metadata": {},
   "outputs": [
    {
     "data": {
      "text/plain": [
       "'ALTER TABLE table_name\\nADD column_name datatype;\\n\\n\\nALTER TABLE Student_info\\nADD CGPA number;      '"
      ]
     },
     "execution_count": 4,
     "metadata": {},
     "output_type": "execute_result"
    }
   ],
   "source": [
    "\"\"\"ALTER TABLE table_name\n",
    "ADD column_name datatype;\n",
    "\n",
    "\n",
    "ALTER TABLE Student_info\n",
    "ADD CGPA number;      \"\"\""
   ]
  },
  {
   "cell_type": "code",
   "execution_count": 5,
   "id": "ec9906ef",
   "metadata": {},
   "outputs": [
    {
     "data": {
      "text/plain": [
       "'TRUNCATE TABLE table_name;\\n\\n\\nTRUNCATE TABLE Student_info;  '"
      ]
     },
     "execution_count": 5,
     "metadata": {},
     "output_type": "execute_result"
    }
   ],
   "source": [
    "\"\"\"TRUNCATE TABLE table_name;\n",
    "\n",
    "\n",
    "TRUNCATE TABLE Student_info;  \"\"\""
   ]
  },
  {
   "cell_type": "code",
   "execution_count": 6,
   "id": "2f7f8ba3",
   "metadata": {},
   "outputs": [
    {
     "data": {
      "text/plain": [
       "'DROP TABLE table_name;\\n\\nDROP TABLE Student_info;  '"
      ]
     },
     "execution_count": 6,
     "metadata": {},
     "output_type": "execute_result"
    }
   ],
   "source": [
    "\"\"\"DROP TABLE table_name;\n",
    "\n",
    "DROP TABLE Student_info;  \"\"\""
   ]
  },
  {
   "cell_type": "code",
   "execution_count": null,
   "id": "ae6fdc36",
   "metadata": {},
   "outputs": [],
   "source": []
  },
  {
   "cell_type": "markdown",
   "id": "138a5856",
   "metadata": {},
   "source": [
    "# Q3. What is DML? Explain INSERT, UPDATE, and DELETE with an example."
   ]
  },
  {
   "cell_type": "markdown",
   "id": "4796187d",
   "metadata": {},
   "source": [
    "`DML stands for Data Manipulation Language.`\n",
    "\n",
    "`It is used to manipulate data in the database by performing insertion, updating and deletion operations. DML cannot be used for database transactions.In Frequently, used commands present in DML are: UPDATE, INSERT, MERGE, SELECT, DELETE, CALL, EXPLAIN PLAN, LOCK TABLE.`\n",
    "\n",
    "\n",
    "\n",
    "__INSERT:-- The INSERT statement is used to insert new rows of data into a table.\n",
    "\n",
    "\n",
    "\n",
    "__UPDATE:--The UPDATE statement is used to modify existing data in a table.__\n",
    "\n",
    "__DELETE:-- The DELETE statement is used to remove rows from a table.__"
   ]
  },
  {
   "cell_type": "raw",
   "id": "5159902a",
   "metadata": {},
   "source": [
    "INSERT INTO employees (employee_id, first_name, last_name, department_id)\n",
    "    VALUES (1, 's', 'r', 101);\n",
    "\n",
    "\n",
    "\n",
    "\n",
    "UPDATE employees\n",
    "SET department_id = 102\n",
    "WHERE employee_id = 1;\n",
    "\n",
    "\n",
    "\n",
    "\n",
    "\n",
    "\n",
    "DELETE FROM employees\n",
    "WHERE employee_id = 1;"
   ]
  },
  {
   "cell_type": "code",
   "execution_count": null,
   "id": "06126b58",
   "metadata": {},
   "outputs": [],
   "source": []
  },
  {
   "cell_type": "markdown",
   "id": "53e405a0",
   "metadata": {},
   "source": [
    "# Q4. What is DQL? Explain SELECT with an example."
   ]
  },
  {
   "cell_type": "raw",
   "id": "78275861",
   "metadata": {},
   "source": [
    "DQL stands for \"Data Query Language,\" which is a subset of SQL (Structured Query Language) used to retrieve data from a database. DQL statements are specifically designed for querying and retrieving information from the database tables. The primary DQL statement is the SELECT statement, which allows you to specify what data you want to retrieve from the database.\n",
    "\n",
    "\n",
    "\n",
    "Consider a simple \"employees\" table with columns \"employee_id,\" \"first_name,\" \"last_name,\" and \"department_id.\" To retrieve specific data from this table, you can use the SELECT statement.\n",
    "\n",
    "\n",
    "\n",
    "\n",
    "\n",
    "\n",
    "SELECT first_name, last_name\n",
    "FROM employees\n",
    "WHERE department_id = 101;\n",
    "\n"
   ]
  },
  {
   "cell_type": "raw",
   "id": "691fe6f5",
   "metadata": {},
   "source": [
    "SELECT * FROM employees;"
   ]
  },
  {
   "cell_type": "code",
   "execution_count": null,
   "id": "f28701bc",
   "metadata": {},
   "outputs": [],
   "source": []
  },
  {
   "cell_type": "markdown",
   "id": "e890e5d8",
   "metadata": {},
   "source": [
    "# Q5. Explain Primary Key and Foreign Key."
   ]
  },
  {
   "cell_type": "markdown",
   "id": "17aea7ae",
   "metadata": {},
   "source": [
    "Primary Key:--\n",
    "                                  A primary key is a column (or set of columns) in a table that uniquely identifies each row in the table. It cannot contain null values and must be unique across all rows in the table. Only one primary key is allowed in a table.\n",
    "\n",
    "A primary key is basically a combination of the 'UNIQUE' and 'Not Null' constraints.it cannot be a NULL value.\n",
    "primary key is that its value cannot be deleted from the parent table.\n",
    "\n",
    "\n",
    "\n",
    "Foreign Key:-- A foreign key is a column (or set of columns) in a table that refers to the primary key in another table. It is used to establish a link between the two tables and is used to enforce referential integrity in the database.\n",
    " \n",
    "a table can have more than one foreign key. Also, the foreign key can contain duplicate and null values in a relational database. The value of a foreign key can be deleted from the child table."
   ]
  },
  {
   "cell_type": "code",
   "execution_count": null,
   "id": "8581fc81",
   "metadata": {},
   "outputs": [],
   "source": []
  },
  {
   "cell_type": "markdown",
   "id": "2c671b26",
   "metadata": {},
   "source": [
    "# Q6. Write a python code to connect MySQL to python. Explain the cursor() and execute() method."
   ]
  },
  {
   "cell_type": "code",
   "execution_count": 10,
   "id": "df290745",
   "metadata": {},
   "outputs": [
    {
     "name": "stdout",
     "output_type": "stream",
     "text": [
      "<mysql.connector.connection_cext.CMySQLConnection object at 0x000001944BEAF940>\n",
      "('information_schema',)\n",
      "('mysql',)\n",
      "('performance_schema',)\n",
      "('sakila',)\n",
      "('sys',)\n",
      "('test',)\n",
      "('world',)\n"
     ]
    }
   ],
   "source": [
    "import mysql.connector\n",
    "# import mysql.connector\n",
    "#create user 'user'@'%' identified by 'password'\n",
    "mydb = mysql.connector.connect(\n",
    "  host=\"localhost\",\n",
    "  user=\"root\",\n",
    "  password=\"Abcdefg123\"\n",
    ")\n",
    "print(mydb)\n",
    "mycursor = mydb.cursor()\n",
    "mycursor.execute(\"SHOW DATABASES\")\n",
    "for x in mycursor:\n",
    "  print(x)"
   ]
  },
  {
   "cell_type": "markdown",
   "id": "54b3f5ca",
   "metadata": {},
   "source": [
    "- cursor(): The cursor() method is called on the connection object to create a cursor. A cursor is an object that allows you to interact with the database by executing SQL queries and fetching results. Cursors are used to manage the context of a database session.\n",
    "\n",
    "\n",
    "\n",
    "\n",
    "- execute: The execute() method is called on the cursor object to execute an SQL query. The query is passed as an argument to the method. After executing the query, the cursor stores the results, if any. You can then use methods fetchall() to retrieve the query results."
   ]
  },
  {
   "cell_type": "code",
   "execution_count": null,
   "id": "f08e99e0",
   "metadata": {},
   "outputs": [],
   "source": []
  },
  {
   "cell_type": "markdown",
   "id": "2a72c83c",
   "metadata": {},
   "source": [
    "# Q7. Give the order of execution of SQL clauses in an SQL query."
   ]
  },
  {
   "cell_type": "markdown",
   "id": "618e14d0",
   "metadata": {},
   "source": [
    "SQL queries adhere to a specific order when evaluating clauses, similar to how mathematical operations adhere to BODMAS.\n",
    "\n",
    "The order in which the clauses in queries are executed is as follows:--"
   ]
  },
  {
   "cell_type": "raw",
   "id": "1a66e356",
   "metadata": {},
   "source": [
    "1. FROM/JOIN \n",
    "The FROM and/or JOIN clauses are executed first to determine the data of interest.\n",
    "\n",
    "2. WHERE \n",
    "The WHERE clause is executed to filter out records that do not meet the constraints.\n",
    "\n",
    " \n",
    "\n",
    "3. GROUP BY \n",
    "The GROUP BY clause is executed to group the data based on the values in one or more columns.\n",
    "\n",
    " \n",
    "\n",
    "4. HAVING \n",
    "The HAVING clause is executed to remove the created grouped records that don’t meet the constraints.\n",
    "\n",
    " \n",
    "\n",
    "5. SELECT \n",
    "The SELECT clause is executed to derive all desired columns and expressions.\n",
    "\n",
    " \n",
    "\n",
    "6. ORDER BY \n",
    "The ORDER BY clause is executed to sort the derived values in ascending or descending order.\n",
    "\n",
    " \n",
    "\n",
    "7. LIMIT/OFFSET \n",
    "Finally, the LIMIT and/or OFFSET clauses are executed to keep or skip a specified number of rows."
   ]
  },
  {
   "cell_type": "code",
   "execution_count": null,
   "id": "4124c49b",
   "metadata": {},
   "outputs": [],
   "source": []
  },
  {
   "cell_type": "code",
   "execution_count": null,
   "id": "2b415648",
   "metadata": {},
   "outputs": [],
   "source": []
  },
  {
   "cell_type": "code",
   "execution_count": null,
   "id": "53a2198c",
   "metadata": {},
   "outputs": [],
   "source": []
  },
  {
   "cell_type": "code",
   "execution_count": null,
   "id": "69ea6f2f",
   "metadata": {},
   "outputs": [],
   "source": []
  },
  {
   "cell_type": "code",
   "execution_count": null,
   "id": "d90c1e50",
   "metadata": {},
   "outputs": [],
   "source": []
  },
  {
   "cell_type": "code",
   "execution_count": null,
   "id": "3d808f6d",
   "metadata": {},
   "outputs": [],
   "source": []
  },
  {
   "cell_type": "code",
   "execution_count": null,
   "id": "0b61ef1a",
   "metadata": {},
   "outputs": [],
   "source": []
  },
  {
   "cell_type": "code",
   "execution_count": null,
   "id": "05ccf5a1",
   "metadata": {},
   "outputs": [],
   "source": []
  },
  {
   "cell_type": "code",
   "execution_count": null,
   "id": "396bdd06",
   "metadata": {},
   "outputs": [],
   "source": []
  },
  {
   "cell_type": "code",
   "execution_count": null,
   "id": "95f3dd05",
   "metadata": {},
   "outputs": [],
   "source": []
  },
  {
   "cell_type": "code",
   "execution_count": null,
   "id": "77bdbe38",
   "metadata": {},
   "outputs": [],
   "source": []
  },
  {
   "cell_type": "code",
   "execution_count": null,
   "id": "20981e1d",
   "metadata": {},
   "outputs": [],
   "source": []
  },
  {
   "cell_type": "code",
   "execution_count": null,
   "id": "49e3538b",
   "metadata": {},
   "outputs": [],
   "source": []
  },
  {
   "cell_type": "code",
   "execution_count": null,
   "id": "664638ab",
   "metadata": {},
   "outputs": [],
   "source": []
  },
  {
   "cell_type": "code",
   "execution_count": null,
   "id": "2f2eacdb",
   "metadata": {},
   "outputs": [],
   "source": []
  },
  {
   "cell_type": "code",
   "execution_count": null,
   "id": "3f83b985",
   "metadata": {},
   "outputs": [],
   "source": []
  },
  {
   "cell_type": "code",
   "execution_count": null,
   "id": "4d6cb926",
   "metadata": {},
   "outputs": [],
   "source": []
  },
  {
   "cell_type": "code",
   "execution_count": null,
   "id": "f45982ed",
   "metadata": {},
   "outputs": [],
   "source": []
  },
  {
   "cell_type": "code",
   "execution_count": null,
   "id": "d2760e25",
   "metadata": {},
   "outputs": [],
   "source": []
  },
  {
   "cell_type": "code",
   "execution_count": null,
   "id": "927451e6",
   "metadata": {},
   "outputs": [],
   "source": []
  }
 ],
 "metadata": {
  "kernelspec": {
   "display_name": "Python 3 (ipykernel)",
   "language": "python",
   "name": "python3"
  },
  "language_info": {
   "codemirror_mode": {
    "name": "ipython",
    "version": 3
   },
   "file_extension": ".py",
   "mimetype": "text/x-python",
   "name": "python",
   "nbconvert_exporter": "python",
   "pygments_lexer": "ipython3",
   "version": "3.9.12"
  }
 },
 "nbformat": 4,
 "nbformat_minor": 5
}
